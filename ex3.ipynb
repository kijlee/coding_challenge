{
 "cells": [
  {
   "cell_type": "code",
   "execution_count": null,
   "metadata": {},
   "outputs": [],
   "source": [
    "import os\n",
    "from redisvl.extensions.router import Route\n",
    "from redisvl.extensions.router import SemanticRouter\n",
    "from redisvl.utils.vectorize import HFTextVectorizer\n",
    "os.environ[\"TOKENIZERS_PARALLELISM\"] = \"false\""
   ]
  },
  {
   "cell_type": "code",
   "execution_count": null,
   "metadata": {},
   "outputs": [],
   "source": [
    "genai = Route(\n",
    "    name=\"GenAI\",\n",
    "    references=[\n",
    "        \"what is Gen AI and how does it work?\",\n",
    "        \"have you used ChatGPT?\",\n",
    "        \"tell me about LLM\",\n",
    "        \"what's the latest technology used in Gen AI?\"\n",
    "    ],\n",
    "    metadata={\"category\": \"GenAI\", \"priority\": 1},\n",
    "    distance_threshold=0.71\n",
    ")"
   ]
  },
  {
   "cell_type": "code",
   "execution_count": null,
   "metadata": {},
   "outputs": [],
   "source": [
    "scifi = Route(\n",
    "    name=\"science_fiction_entertainment\",\n",
    "    references=[\n",
    "        \"what's your favorite sci-fi movie?\",\n",
    "        \"popular scifi movies in Netflix\",\n",
    "        \"Dune\",\n",
    "        \"can you recommend some sci-fi movies?\"\n",
    "    ],\n",
    "    metadata={\"category\": \"entertainment\", \"priority\": 2},\n",
    "    distance_threshold=0.72\n",
    ")"
   ]
  },
  {
   "cell_type": "code",
   "execution_count": null,
   "metadata": {},
   "outputs": [],
   "source": [
    "classical = Route(\n",
    "    name=\"classical_music\",\n",
    "    references=[\n",
    "        \"Do you like classical music?\",\n",
    "        \"Recommend some pieces to play in classical music\",\n",
    "        \"Beethoven\",\n",
    "        \"Mozart\",\n",
    "        \"Chopin\",\n",
    "        \"piano\"\n",
    "    ],\n",
    "    metadata={\"category\": \"music\", \"priority\": 3},\n",
    "    distance_threshold=0.7\n",
    ")"
   ]
  },
  {
   "cell_type": "code",
   "execution_count": null,
   "metadata": {},
   "outputs": [],
   "source": [
    "router = SemanticRouter(\n",
    "    name=\"topic-router\",\n",
    "    vectorizer=HFTextVectorizer(),\n",
    "    routes=[genai, scifi, classical],\n",
    "    redis_url=\"redis://172.16.22.22:12426\",\n",
    "    overwrite=True # Blow away any other routing index with this name\n",
    ")"
   ]
  },
  {
   "cell_type": "code",
   "execution_count": null,
   "metadata": {},
   "outputs": [],
   "source": [
    "route_match = router(\"LLM\")\n",
    "route_match"
   ]
  }
 ],
 "metadata": {
  "kernelspec": {
   "display_name": "Python 3.9.2 64-bit",
   "language": "python",
   "name": "python3"
  },
  "language_info": {
   "codemirror_mode": {
    "name": "ipython",
    "version": 3
   },
   "file_extension": ".py",
   "mimetype": "text/x-python",
   "name": "python",
   "nbconvert_exporter": "python",
   "pygments_lexer": "ipython3",
   "version": "3.9.2"
  },
  "orig_nbformat": 4,
  "vscode": {
   "interpreter": {
    "hash": "31f2aee4e71d21fbe5cf8b01ff0e069b9275f58929596ceb00d14d90e3e16cd6"
   }
  }
 },
 "nbformat": 4,
 "nbformat_minor": 2
}
