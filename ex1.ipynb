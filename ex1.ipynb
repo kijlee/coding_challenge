{
 "cells": [
  {
   "cell_type": "code",
   "execution_count": null,
   "metadata": {},
   "outputs": [],
   "source": [
    "import redis\n",
    "  \n",
    "def main():\n",
    "    # Connect to the source (master) and replica Redis instances\n",
    "    src = redis.Redis(host='re-n1', port=18508)\n",
    "    rep = redis.Redis(host='re-n3', port=14669)\n",
    "\n",
    "# 1. Insert values 1-100 into the source database\n",
    "    for i in range(1, 101):\n",
    "        src.set(f'num:{i}', i)\n",
    "\n",
    "# 2. Ensure the write operations are replicated (wait for 1 replica, up to 5 seconds)\n",
    "    src.execute_command('WAIT', 1, 5000)\n",
    "\n",
    "# 3. Read and print the values in reverse order from the replica database\n",
    "    for i in range(100, 0, -1):\n",
    "        value = rep.get(f'num:{i}')\n",
    "        print(value.decode() if value else None)\n",
    "\n",
    "if __name__ == '__main__':\n",
    "    main()"
   ]
  }
 ],
 "metadata": {
  "kernelspec": {
   "display_name": "Python 3.9.2 64-bit",
   "language": "python",
   "name": "python3"
  },
  "language_info": {
   "codemirror_mode": {
    "name": "ipython",
    "version": 3
   },
   "file_extension": ".py",
   "mimetype": "text/x-python",
   "name": "python",
   "nbconvert_exporter": "python",
   "pygments_lexer": "ipython3",
   "version": "3.9.2"
  },
  "orig_nbformat": 4,
  "vscode": {
   "interpreter": {
    "hash": "31f2aee4e71d21fbe5cf8b01ff0e069b9275f58929596ceb00d14d90e3e16cd6"
   }
  }
 },
 "nbformat": 4,
 "nbformat_minor": 2
}
