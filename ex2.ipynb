{
 "cells": [
  {
   "cell_type": "code",
   "execution_count": 22,
   "metadata": {},
   "outputs": [],
   "source": [
    "import requests\n",
    "import json\n",
    "import urllib3\n",
    "import warnings\n",
    "import time\n",
    "\n",
    "warnings.filterwarnings(\"ignore\", category=urllib3.exceptions.InsecureRequestWarning)\n",
    "\n",
    "host = \"re-cluster1.ps-redislabs.org\"\n",
    "port = \"9443\"\n",
    "username = \"admin@rl.org\"\n",
    "password = \"QFJ5GWf\"\n",
    "\n",
    "# URLs\n",
    "url_db = f\"https://{host}:{port}/v1/bdbs\"\n",
    "url_user = f\"https://{host}:{port}/v1/users\"\n",
    "db_name = \"v1-api-db\"\n"
   ]
  },
  {
   "cell_type": "code",
   "execution_count": 23,
   "metadata": {},
   "outputs": [
    {
     "name": "stdout",
     "output_type": "stream",
     "text": [
      "Deleted user john.doe@example.com (uid=8)\n",
      "Deleted user mike.smith@example.com (uid=9)\n",
      "Deleted user cary.johnson@example.com (uid=10)\n"
     ]
    }
   ],
   "source": [
    "# Step 1: Delete users by UID if they already exist\n",
    "user_emails = [\"john.doe@example.com\", \"mike.smith@example.com\", \"cary.johnson@example.com\"]\n",
    "response_users = requests.get(\n",
    "    url_user,\n",
    "    auth=(username, password),\n",
    "    headers={\"Accept\": \"application/json\"},\n",
    "    verify=False\n",
    ")\n",
    "\n",
    "if response_users.status_code == 200:\n",
    "    all_users = response_users.json()\n",
    "    for email in user_emails:\n",
    "        match = next((u for u in all_users if u.get(\"email\") == email), None)\n",
    "        if match:\n",
    "            uid = match.get(\"uid\")\n",
    "            del_resp = requests.delete(\n",
    "                f\"{url_user}/{uid}\",\n",
    "                auth=(username, password),\n",
    "                headers={\"Accept\": \"application/json\"},\n",
    "                verify=False\n",
    "            )\n",
    "            if del_resp.status_code in (200, 204):\n",
    "                print(f\"Deleted user {email} (uid={uid})\")\n",
    "            else:\n",
    "                print(f\"Failed to delete user {email} (uid={uid}) - {del_resp.status_code}\")\n",
    "        else:\n",
    "            print(f\"User {email} not found.\")\n",
    "else:\n",
    "    print(f\"Failed to fetch users for deletion - {response_users.status_code}\")\n",
    "    exit(1)\n"
   ]
  },
  {
   "cell_type": "code",
   "execution_count": 24,
   "metadata": {},
   "outputs": [
    {
     "name": "stdout",
     "output_type": "stream",
     "text": [
      "✅ Database 'v1-api-db' created successfully.\n"
     ]
    }
   ],
   "source": [
    "\n",
    "# Step 2: Create the database\n",
    "payload_db = {\n",
    "    \"name\": db_name,\n",
    "    \"type\": \"redis\",\n",
    "    \"memory_size\": 2 * 1024 * 1024 * 1024\n",
    "}\n",
    "response_db = requests.post(\n",
    "    url_db,\n",
    "    auth=(username, password),\n",
    "    headers={\n",
    "        \"Content-Type\": \"application/json\",\n",
    "        \"Accept\": \"application/json\"\n",
    "    },\n",
    "    data=json.dumps(payload_db),\n",
    "    verify=False\n",
    ")\n",
    "\n",
    "if response_db.status_code == 200:\n",
    "    db_uid = response_db.json().get(\"uid\")\n",
    "    print(f\"✅ Database '{db_name}' created successfully.\")\n",
    "else:\n",
    "    print(f\"❌ Failed to create database '{db_name}': {response_db.status_code}\")\n",
    "    exit(1)\n"
   ]
  },
  {
   "cell_type": "code",
   "execution_count": 25,
   "metadata": {},
   "outputs": [
    {
     "name": "stdout",
     "output_type": "stream",
     "text": [
      "User john.doe@example.com created.\n",
      "User mike.smith@example.com created.\n",
      "User cary.johnson@example.com created.\n"
     ]
    }
   ],
   "source": [
    "\n",
    "# Step 3: Create users\n",
    "users = [\n",
    "    {\"email\": \"john.doe@example.com\", \"name\": \"John Doe\", \"role\": \"db_viewer\", \"password\": \"asdf\"},\n",
    "    {\"email\": \"mike.smith@example.com\", \"name\": \"Mike Smith\", \"role\": \"db_member\", \"password\": \"asdf\"},\n",
    "    {\"email\": \"cary.johnson@example.com\", \"name\": \"Cary Johnson\", \"role\": \"admin\", \"password\": \"asdf\"},\n",
    "]\n",
    "\n",
    "for user in users:\n",
    "    resp = requests.post(\n",
    "        url_user,\n",
    "        auth=(username, password),\n",
    "        headers={\n",
    "        \"Content-Type\": \"application/json\",\n",
    "        \"Accept\": \"application/json\"\n",
    "        },\n",
    "        data=json.dumps(user),\n",
    "        verify=False\n",
    "    )\n",
    "    if resp.status_code in (200, 201) or \"uid\" in resp_json:\n",
    "        print(f\"User {user['email']} created.\")\n",
    "    else:\n",
    "        print(f\"Failed to create user {user['email']} - {resp.status_code}\")\n"
   ]
  },
  {
   "cell_type": "code",
   "execution_count": 26,
   "metadata": {},
   "outputs": [
    {
     "name": "stdout",
     "output_type": "stream",
     "text": [
      "🗑️ Database 'v1-api-db' deleted successfully after 2 attempt(s).\n"
     ]
    }
   ],
   "source": [
    "\n",
    "# Step 4: Delete the database with retry\n",
    "def is_db_ready(uid):\n",
    "    r = requests.get(f\"{url_db}/{uid}\", auth=(username, password), verify=False)\n",
    "    return r.status_code == 200 and r.json().get(\"status\") == \"active\"\n",
    "\n",
    "max_attempts = 5\n",
    "for attempt in range(1, max_attempts + 1):\n",
    "    if is_db_ready(db_uid):\n",
    "        r = requests.delete(f\"{url_db}/{db_uid}\", auth=(username, password), verify=False)\n",
    "        if r.status_code == 200:\n",
    "            print(f\"🗑️ Database '{db_name}' deleted successfully after {attempt} attempt(s).\")\n",
    "        else:\n",
    "            print(f\"❌ Failed to delete database '{db_name}': {r.status_code}\")\n",
    "        break\n",
    "    time.sleep(5)\n",
    "else:\n",
    "    print(f\"❌ Database '{db_name}' was not ready for deletion after max retries.\")"
   ]
  }
 ],
 "metadata": {
  "kernelspec": {
   "display_name": "Python 3.9.2 64-bit",
   "language": "python",
   "name": "python3"
  },
  "language_info": {
   "codemirror_mode": {
    "name": "ipython",
    "version": 3
   },
   "file_extension": ".py",
   "mimetype": "text/x-python",
   "name": "python",
   "nbconvert_exporter": "python",
   "pygments_lexer": "ipython3",
   "version": "3.9.2"
  },
  "orig_nbformat": 4,
  "vscode": {
   "interpreter": {
    "hash": "31f2aee4e71d21fbe5cf8b01ff0e069b9275f58929596ceb00d14d90e3e16cd6"
   }
  }
 },
 "nbformat": 4,
 "nbformat_minor": 2
}
